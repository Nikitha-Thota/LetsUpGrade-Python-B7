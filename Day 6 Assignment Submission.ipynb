{
 "cells": [
  {
   "cell_type": "markdown",
   "metadata": {},
   "source": [
    "# Question 1"
   ]
  },
  {
   "cell_type": "code",
   "execution_count": 15,
   "metadata": {},
   "outputs": [
    {
     "name": "stdout",
     "output_type": "stream",
     "text": [
      "Welcome to the Bank !!\n",
      "\n",
      " Net Available Balance= 0\n",
      "Enter the amount to deposit : 1000\n",
      "\n",
      " Amount Deposited is :  1000.0\n",
      "\n",
      " Net Available Balance= 1000.0\n",
      "Enter amount to Withdraw: 900\n",
      "\n",
      " amount withdrawn :  900.0\n",
      "\n",
      " Net Available Balance= 100.0\n"
     ]
    }
   ],
   "source": [
    "class Bank_Account: \n",
    "    def __init__(self): \n",
    "        self.balance=0\n",
    "        print(\"Welcome to the Bank !!\") \n",
    "  \n",
    "    def deposit(self): \n",
    "        amount=float(input(\"Enter the amount to deposit : \")) \n",
    "        self.balance += amount \n",
    "        print(\"\\n Amount Deposited is : \", amount) \n",
    "  \n",
    "    def withdraw(self): \n",
    "        amount = float(input(\"Enter amount to Withdraw: \")) \n",
    "        if self.balance>=amount: \n",
    "            self.balance-=amount \n",
    "            print(\"\\n amount withdrawn : \", amount) \n",
    "        else: \n",
    "            print(\"\\n Entered amount exceeded the available balance in your account \") \n",
    "  \n",
    "    def display(self): \n",
    "        print(\"\\n Net Available Balance=\",self.balance) \n",
    "  \n",
    "\n",
    "   \n",
    "# creating an object of class \n",
    "nikitha = Bank_Account() \n",
    "   \n",
    "# Calling functions with that class object \n",
    "nikitha.display() \n",
    "nikitha.deposit()\n",
    "nikitha.display()\n",
    "nikitha.withdraw() \n",
    "nikitha.display() "
   ]
  },
  {
   "cell_type": "markdown",
   "metadata": {},
   "source": [
    "# Question 2"
   ]
  },
  {
   "cell_type": "code",
   "execution_count": 24,
   "metadata": {},
   "outputs": [
    {
     "name": "stdout",
     "output_type": "stream",
     "text": [
      "VOLUME -  1256.637061435917\n",
      "SURFACE AREA -  722.5663103256525\n"
     ]
    }
   ],
   "source": [
    "import math \n",
    "pi = math.pi \n",
    "  \n",
    "# Function to calculate Volume of Cone \n",
    "def volume(r, h): \n",
    "    r = float(r)\n",
    "    h = float(h)\n",
    "    return (1 / 3) * pi * r * r * h \n",
    "  \n",
    "# Function To Calculate Surface Area of Cone \n",
    "def surfacearea(r, s): \n",
    "    r = float(r)\n",
    "    s = float(s)\n",
    "    return pi * r * s + pi * r * r \n",
    "\n",
    "#Driver Code\n",
    "\n",
    "volumeCalculated = volume(10,12)\n",
    "print(\"VOLUME - \", volumeCalculated)\n",
    "surfaceAreaCalculated = surfacearea(10,13)\n",
    "print(\"SURFACE AREA - \", surfaceAreaCalculated)"
   ]
  }
 ],
 "metadata": {
  "kernelspec": {
   "display_name": "Python 3",
   "language": "python",
   "name": "python3"
  },
  "language_info": {
   "codemirror_mode": {
    "name": "ipython",
    "version": 3
   },
   "file_extension": ".py",
   "mimetype": "text/x-python",
   "name": "python",
   "nbconvert_exporter": "python",
   "pygments_lexer": "ipython3",
   "version": "3.8.3"
  }
 },
 "nbformat": 4,
 "nbformat_minor": 4
}
